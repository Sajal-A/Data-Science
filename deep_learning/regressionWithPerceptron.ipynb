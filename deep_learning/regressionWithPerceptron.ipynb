{
 "cells": [
  {
   "cell_type": "markdown",
   "metadata": {},
   "source": [
    "### Regression with Perceptron"
   ]
  },
  {
   "cell_type": "markdown",
   "metadata": {},
   "source": [
    "**Build Neural Network model with single perceptron**\n",
    "\n",
    "The general methodology to build a neural network is to:\n",
    "- Define the neural network structure(# of input units, # of hidden units etc)\n",
    "- Initialize the model's parameters (weights and bais)\n",
    "- Loop:\n",
    "    - implement forward propagation (calculate the perceptron output)\n",
    "    - implement backward propagation (to get the required corrections for the parameters).\n",
    "    - update the parameters.\n",
    "- Make predictions"
   ]
  },
  {
   "cell_type": "code",
   "execution_count": 54,
   "metadata": {},
   "outputs": [],
   "source": [
    "import pandas as pd \n",
    "import numpy as np\n",
    "import matplotlib.pyplot as plt \n",
    "np.random.seed(3)"
   ]
  },
  {
   "cell_type": "code",
   "execution_count": 2,
   "metadata": {},
   "outputs": [],
   "source": [
    "data = pd.read_csv(r'C:\\Users\\207498\\OneDrive - IBS Software Pvt Ltd\\Desktop\\my_work\\Python\\python_training\\DS\\MATHS\\tvmarketing.csv')"
   ]
  },
  {
   "cell_type": "code",
   "execution_count": 3,
   "metadata": {},
   "outputs": [
    {
     "data": {
      "text/html": [
       "<div>\n",
       "<style scoped>\n",
       "    .dataframe tbody tr th:only-of-type {\n",
       "        vertical-align: middle;\n",
       "    }\n",
       "\n",
       "    .dataframe tbody tr th {\n",
       "        vertical-align: top;\n",
       "    }\n",
       "\n",
       "    .dataframe thead th {\n",
       "        text-align: right;\n",
       "    }\n",
       "</style>\n",
       "<table border=\"1\" class=\"dataframe\">\n",
       "  <thead>\n",
       "    <tr style=\"text-align: right;\">\n",
       "      <th></th>\n",
       "      <th>TV</th>\n",
       "      <th>Sales</th>\n",
       "    </tr>\n",
       "  </thead>\n",
       "  <tbody>\n",
       "    <tr>\n",
       "      <th>0</th>\n",
       "      <td>230.1</td>\n",
       "      <td>22.1</td>\n",
       "    </tr>\n",
       "    <tr>\n",
       "      <th>1</th>\n",
       "      <td>44.5</td>\n",
       "      <td>10.4</td>\n",
       "    </tr>\n",
       "    <tr>\n",
       "      <th>2</th>\n",
       "      <td>17.2</td>\n",
       "      <td>9.3</td>\n",
       "    </tr>\n",
       "    <tr>\n",
       "      <th>3</th>\n",
       "      <td>151.5</td>\n",
       "      <td>18.5</td>\n",
       "    </tr>\n",
       "    <tr>\n",
       "      <th>4</th>\n",
       "      <td>180.8</td>\n",
       "      <td>12.9</td>\n",
       "    </tr>\n",
       "  </tbody>\n",
       "</table>\n",
       "</div>"
      ],
      "text/plain": [
       "      TV  Sales\n",
       "0  230.1   22.1\n",
       "1   44.5   10.4\n",
       "2   17.2    9.3\n",
       "3  151.5   18.5\n",
       "4  180.8   12.9"
      ]
     },
     "execution_count": 3,
     "metadata": {},
     "output_type": "execute_result"
    }
   ],
   "source": [
    "data.head()"
   ]
  },
  {
   "cell_type": "code",
   "execution_count": 4,
   "metadata": {},
   "outputs": [
    {
     "data": {
      "text/plain": [
       "<Axes: xlabel='TV', ylabel='Sales'>"
      ]
     },
     "execution_count": 4,
     "metadata": {},
     "output_type": "execute_result"
    },
    {
     "data": {
      "image/png": "[encoded data removed]",
      "text/plain": [
       "<Figure size 640x480 with 1 Axes>"
      ]
     },
     "metadata": {},
     "output_type": "display_data"
    }
   ],
   "source": [
    "data.plot(x='TV',y='Sales',kind='scatter',color='blue')"
   ]
  },
  {
   "cell_type": "code",
   "execution_count": 9,
   "metadata": {},
   "outputs": [],
   "source": [
    "#column-wise normalization can be done for all the fields at once\n",
    "#Apply normalization to bring them into same unit\n",
    "X_norm = (data['TV'] - np.mean(data['TV'])) / np.std(data['TV'])\n",
    "Y_norm = (data['Sales'] - np.mean(data['Sales'])) / np.std(data['Sales'])"
   ]
  },
  {
   "cell_type": "code",
   "execution_count": 10,
   "metadata": {},
   "outputs": [
    {
     "name": "stdout",
     "output_type": "stream",
     "text": [
      "(200,)\n",
      "(200,)\n"
     ]
    }
   ],
   "source": [
    "print(X_norm.shape)\n",
    "print(Y_norm.shape)"
   ]
  },
  {
   "cell_type": "code",
   "execution_count": 11,
   "metadata": {},
   "outputs": [
    {
     "name": "stdout",
     "output_type": "stream",
     "text": [
      "0      0.969852\n",
      "1     -1.197376\n",
      "2     -1.516155\n",
      "3      0.052050\n",
      "4      0.394182\n",
      "         ...   \n",
      "195   -1.270941\n",
      "196   -0.617035\n",
      "197    0.349810\n",
      "198    1.594565\n",
      "199    0.993206\n",
      "Name: TV, Length: 200, dtype: float64\n"
     ]
    }
   ],
   "source": [
    "print(X_norm)"
   ]
  },
  {
   "cell_type": "code",
   "execution_count": 12,
   "metadata": {},
   "outputs": [
    {
     "name": "stdout",
     "output_type": "stream",
     "text": [
      "(1, 200) (1, 200)\n"
     ]
    }
   ],
   "source": [
    "X_norm = np.array(X_norm).reshape((1, len(X_norm)))\n",
    "Y_norm = np.array(Y_norm).reshape((1, len(Y_norm)))\n",
    "print(X_norm.shape,Y_norm.shape)"
   ]
  },
  {
   "cell_type": "code",
   "execution_count": 145,
   "metadata": {},
   "outputs": [
    {
     "data": {
      "text/plain": [
       "array([[ 0.96985227, -1.19737623, -1.51615499,  0.05204968,  0.3941822 ,\n",
       "        -1.61540845, -1.04557682, -0.31343659, -1.61657614,  0.61604287,\n",
       "        -0.94515567,  0.79002835, -1.4390876 , -0.57850171,  0.66625345,\n",
       "         0.56466461, -0.92530498,  1.56887609, -0.90895735,  0.0030068 ,\n",
       "         0.8332328 ,  1.05509347, -1.5628625 ,  0.94883389, -0.98952781,\n",
       "         1.35285385, -0.04837147,  1.08662104,  1.18820988, -0.89260972,\n",
       "         1.70316018, -0.3986778 , -0.58200477,  1.38438142, -0.59952009,\n",
       "         1.67747105,  1.39956136, -0.84473452, -1.21372386,  0.94533082,\n",
       "         0.64757044,  0.34981006,  1.711334  ,  0.6989487 , -1.42390765,\n",
       "         0.327624  , -0.66958136,  1.08428567,  0.93598932, -0.93581417,\n",
       "         0.61604287, -0.54463877,  0.80987904,  0.41520058,  1.35051848,\n",
       "         0.60553368, -1.63175608, -0.12660655,  0.74448853,  0.74332084,\n",
       "        -1.09228433,  1.33417085,  1.07727954, -0.51778195, -0.18615862,\n",
       "        -0.91129272, -1.34917564, -0.09040823,  1.05509347,  0.81454979,\n",
       "         0.60786906, -0.43487612, -1.40405696, -0.20600931,  0.77484841,\n",
       "        -1.51965805, -1.39588315, -0.30993353, -1.65394214, -0.36247947,\n",
       "        -0.82488383,  1.08311798, -0.8377284 , -0.91829885,  0.7760161 ,\n",
       "         0.53897548, -0.82605152, -0.42436693, -0.68592899, -0.43487612,\n",
       "        -0.14879261, -1.38303858,  0.82505898,  1.21273132, -0.46290062,\n",
       "         0.18983684,  0.59035374,  0.4420574 ,  1.66579418, -0.13828342,\n",
       "         0.87994031,  1.74402926,  1.55486384,  0.47708803,  1.06443498,\n",
       "        -0.10675585, -1.42507534, -0.66140754, -1.56403019,  1.26527727,\n",
       "         0.91964169,  1.10530405,  0.33463012,  0.73047627, -0.80386545,\n",
       "        -0.84006377, -0.09157591, -0.82488383, -0.24921376, -1.49046586,\n",
       "        -0.06705447, -1.49747198,  0.89862331, -0.27957364,  0.96284614,\n",
       "        -0.69877355, -1.62591764, -0.7805117 ,  0.85541887, -1.02105537,\n",
       "        -1.70882347,  1.37971067, -1.61891151,  0.84958043, -1.2861205 ,\n",
       "        -1.15300409, -1.41806922,  1.47896413, -1.21489154,  0.4420574 ,\n",
       "        -0.85991446,  0.54481392,  0.85775424, -0.49559588, -0.59368165,\n",
       "        -0.07873135,  1.08662104,  1.12281936, -1.27327593, -1.19504085,\n",
       "         1.56070228, -0.30409509,  0.59035374,  0.28325186,  0.47592034,\n",
       "        -1.66912209, -0.62053847,  0.03219899, -1.58037782, -0.1791525 ,\n",
       "         0.29726411, -0.71628887,  0.48292647,  0.19217221, -0.34846722,\n",
       "         1.02123053, -1.50798117,  0.69778102,  0.79820216,  1.60273904,\n",
       "        -1.1331534 ,  0.20384909, -1.48813048,  0.24938891,  0.87994031,\n",
       "         1.51633014,  1.18353913,  0.27040729,  1.51399477,  0.21669366,\n",
       "         0.11160176,  0.83440049, -1.06075676,  1.64127273,  1.24659427,\n",
       "         0.67676264, -0.08807285,  0.51445404,  1.62258973, -1.49863967,\n",
       "        -1.25576062, -0.83539302, -1.51615499,  0.23070591,  0.0310313 ,\n",
       "        -1.27094056, -0.61703541,  0.34981006,  1.59456522,  0.99320602]])"
      ]
     },
     "execution_count": 145,
     "metadata": {},
     "output_type": "execute_result"
    }
   ],
   "source": [
    "X_norm"
   ]
  },
  {
   "cell_type": "markdown",
   "metadata": {},
   "source": [
    "### Implementing of the Neural Network Model for Linear Regression\n",
    "\n",
    "Neural Network Model with a single Perceptron and one input node"
   ]
  },
  {
   "cell_type": "markdown",
   "metadata": {},
   "source": [
    "**Defining the Neural Network Structure** \n",
    "\n",
    "n_x : the size of the input layer<br>\n",
    "n_y : the size of the output layer"
   ]
  },
  {
   "cell_type": "code",
   "execution_count": 14,
   "metadata": {},
   "outputs": [
    {
     "name": "stdout",
     "output_type": "stream",
     "text": [
      "The size of input layer:  1\n",
      "The size of output layer:  1\n"
     ]
    }
   ],
   "source": [
    "def layer_sizes(X,Y):\n",
    "    \"\"\"    \n",
    "    Args:\n",
    "        X (series): input dataset \n",
    "        Y (series): label\n",
    "        \n",
    "        returns:\n",
    "        n_x : the size of the input layer \n",
    "        n_y : the size of the output layer\n",
    "    \"\"\"\n",
    "    n_x = X.shape[0]\n",
    "    n_y = Y.shape[0]\n",
    "    \n",
    "    return (n_x,n_y)\n",
    "(n_x, n_y) = layer_sizes(X_norm,Y_norm)\n",
    "print('The size of input layer: ',n_x)\n",
    "print('The size of output layer: ',n_y)"
   ]
  },
  {
   "cell_type": "markdown",
   "metadata": {},
   "source": [
    "**Initialize the model's parameters**"
   ]
  },
  {
   "cell_type": "markdown",
   "metadata": {},
   "source": [
    "initializing the weights array of shape(n_x * n_y) = (1 * 1) with random values and the bias vector of shape (n_y * 1) = (1 * 1)"
   ]
  },
  {
   "cell_type": "code",
   "execution_count": 124,
   "metadata": {},
   "outputs": [
    {
     "name": "stdout",
     "output_type": "stream",
     "text": [
      "W [[0.00122219]]\n",
      "b [[0.]]\n"
     ]
    }
   ],
   "source": [
    "def initialize_parameters(n_x,n_y):\n",
    "    \"\"\"\n",
    "        returns :\n",
    "            w : weight matrix of shape(n_y,n_x)\n",
    "            b : bais value set as a vector of shape (n_y,1)\n",
    "    \"\"\"\n",
    "    w = np.random.randn(n_y,n_x) * 0.01\n",
    "    b = np.zeros((n_y, 1))\n",
    "    \n",
    "    parameters = {\n",
    "        'W':w,\n",
    "        'b':b\n",
    "    }\n",
    "    return parameters\n",
    "\n",
    "parameters = initialize_parameters(n_x,n_y)\n",
    "print('W',parameters['W'])\n",
    "print('b',parameters['b'])"
   ]
  },
  {
   "cell_type": "markdown",
   "metadata": {},
   "source": [
    "**The Loop**\n",
    "\n",
    "Implement forward_propagation()"
   ]
  },
  {
   "cell_type": "code",
   "execution_count": 125,
   "metadata": {},
   "outputs": [
    {
     "name": "stdout",
     "output_type": "stream",
     "text": [
      "Some elements of output vector y_hat:  [ 1.18534534e-03 -1.46342323e-03 -1.85303197e-03  6.36146871e-05\n",
      "  4.81766191e-04]\n"
     ]
    }
   ],
   "source": [
    "def forward_propagation(X,parameters):\n",
    "    \"\"\"_summary_\n",
    "        X : input data of size(n_x, m)\n",
    "        parameters : dictionary containing weights and bias\n",
    "        \n",
    "        return: \n",
    "        y_hat : the output\n",
    "    \"\"\"\n",
    "    W = parameters['W']\n",
    "    b = parameters['b']\n",
    "    \n",
    "    #forward propagation to calculate Z\n",
    "    Z = np.matmul(W,X)+b\n",
    "    Y_hat = Z\n",
    "    return Y_hat\n",
    "\n",
    "Y_hat = forward_propagation(X_norm,parameters)\n",
    "print('Some elements of output vector y_hat: ',Y_hat[0,0:5])"
   ]
  },
  {
   "cell_type": "markdown",
   "metadata": {},
   "source": [
    "Define cost function which will be used to train the model"
   ]
  },
  {
   "cell_type": "code",
   "execution_count": 126,
   "metadata": {},
   "outputs": [
    {
     "name": "stdout",
     "output_type": "stream",
     "text": [
      "Cost =  0.49904471871398365\n"
     ]
    }
   ],
   "source": [
    "def compute_cost(Y_hat,Y):\n",
    "    #number of examples\n",
    "    \"\"\"\n",
    "    Args:\n",
    "        Y_hat : predicted value \n",
    "        Y : actual value\n",
    "        \n",
    "    returns:\n",
    "    cost : sum of squares scaled by 1/(2*number of examples)\n",
    "    \"\"\"\n",
    "    m = Y_hat.shape[1]\n",
    "    cost = np.sum((Y_hat-Y)**2)/(2*m)\n",
    "    \n",
    "    return cost\n",
    "\n",
    "print('Cost = ',compute_cost(Y_hat,Y_norm))"
   ]
  },
  {
   "cell_type": "code",
   "execution_count": 128,
   "metadata": {},
   "outputs": [
    {
     "name": "stdout",
     "output_type": "stream",
     "text": [
      "dW =  [[-0.78100223]]\n",
      "db =  [[1.77635684e-16]]\n"
     ]
    }
   ],
   "source": [
    "def backward_propagation(Y_hat, X, Y):\n",
    "    \"\"\"Implements the backward propagation for calculating garadients\n",
    "\n",
    "    Args:\n",
    "        Y_hat: predicted values\n",
    "        X : input values\n",
    "        Y: actual values\n",
    "        \n",
    "    Returns:\n",
    "        gards: dictionary containing gradients with respect to different parameters\n",
    "    \"\"\"\n",
    "    m = X.shape[1]\n",
    "    dZ = Y_hat - Y\n",
    "    dW = 1/m * np.dot(dZ,X.T)\n",
    "    db = 1/m * np.sum(dZ,axis=1,keepdims=True)\n",
    "    \n",
    "    grads = {\n",
    "        'dW' : dW,\n",
    "        'db' : db}\n",
    "    \n",
    "    return grads\n",
    "grads = backward_propagation(Y_hat,X_norm,Y_norm)\n",
    "print('dW = ',grads['dW'])\n",
    "print('db = ',grads['db'])"
   ]
  },
  {
   "cell_type": "code",
   "execution_count": 129,
   "metadata": {},
   "outputs": [
    {
     "name": "stdout",
     "output_type": "stream",
     "text": [
      "W updated =  [[0.93842487]]\n",
      "b updated =  [[-2.13162821e-16]]\n"
     ]
    }
   ],
   "source": [
    "def update_parameters(parameters:dict,grads:dict,learning_rate:float=1.2):\n",
    "    \"\"\"Update parameters using the gradient descent rule\n",
    "\n",
    "    Args:\n",
    "        parameters : dict containing parameter w and b\n",
    "        grads : dict containing grads (dW, db)\n",
    "        learning_rate (int, optional): _description_. Defaults to 1.\n",
    "    \"\"\"\n",
    "    W = parameters['W']\n",
    "    b = parameters['b']\n",
    "    \n",
    "    dW = grads['dW']\n",
    "    db = grads['db']\n",
    "    \n",
    "    W = W - learning_rate * dW\n",
    "    b = b - learning_rate * db\n",
    "    \n",
    "    parameters = {\n",
    "        'W' : W,\n",
    "        'b' : b\n",
    "    }\n",
    "    return parameters\n",
    "\n",
    "parameters_updated = update_parameters(parameters, grads)\n",
    "\n",
    "print(\"W updated = \",parameters_updated[\"W\"])\n",
    "print(\"b updated = \" ,parameters_updated[\"b\"])"
   ]
  },
  {
   "cell_type": "markdown",
   "metadata": {},
   "source": [
    "### Integrate the function in nn_model() and make predictions"
   ]
  },
  {
   "cell_type": "code",
   "execution_count": 132,
   "metadata": {},
   "outputs": [],
   "source": [
    "def nn_model(X, Y, num_iterations=10,learning_rate=1.2,print_cost=False):\n",
    "    \"\"\"\n",
    "    Args:\n",
    "        X : input dataset of shape (n_x,number of examples) \n",
    "        Y : labels of shape (n_y, number of examples)\n",
    "        num_iterations (int, optional): number of iteration in the loop. Defaults to 10.\n",
    "        learning_rate (float, optional): learning rate for gradient descent. Defaults to 1.2.\n",
    "        print_cost (bool, optional): if True, print the cost every iteration. Defaults to False.\n",
    "        \n",
    "        Returns:\n",
    "        parameters : parameters learnt by the model. They can be used to make predictions. \n",
    "    \"\"\"\n",
    "    n_x, n_y = layer_sizes(X,Y)\n",
    "    \n",
    "    parameters = initialize_parameters(n_x,n_y)\n",
    "    \n",
    "    for i in range(0,num_iterations):\n",
    "        \n",
    "        #forward propagation\n",
    "        Y_hat = forward_propagation(X,parameters)\n",
    "        \n",
    "        #cost function\n",
    "        cost = compute_cost(Y_hat,Y)\n",
    "        \n",
    "        #backward propagation\n",
    "        grads = backward_propagation(Y_hat,X,Y)\n",
    "        \n",
    "        #gradient descent parameter update\n",
    "        parameters = update_parameters(parameters,grads,learning_rate)\n",
    "        \n",
    "        #print the cost every iterations\n",
    "        if print_cost:\n",
    "            print(f\"Cost after iteration {i}, {cost} \")\n",
    "            \n",
    "    return parameters"
   ]
  },
  {
   "cell_type": "code",
   "execution_count": 133,
   "metadata": {},
   "outputs": [
    {
     "name": "stdout",
     "output_type": "stream",
     "text": [
      "Cost after iteration 0, 0.5047133474609289 \n",
      "Cost after iteration 1, 0.2064885094904031 \n",
      "Cost after iteration 2, 0.19455951597158205 \n",
      "Cost after iteration 3, 0.1940823562308292 \n",
      "Cost after iteration 4, 0.19406326984119912 \n",
      "Cost after iteration 5, 0.1940625063856139 \n",
      "Cost after iteration 6, 0.19406247584739048 \n",
      "Cost after iteration 7, 0.19406247462586154 \n",
      "Cost after iteration 8, 0.19406247457700038 \n",
      "Cost after iteration 9, 0.1940624745750459 \n",
      "Cost after iteration 10, 0.19406247457496775 \n",
      "Cost after iteration 11, 0.19406247457496462 \n",
      "Cost after iteration 12, 0.19406247457496448 \n",
      "Cost after iteration 13, 0.19406247457496448 \n",
      "Cost after iteration 14, 0.19406247457496448 \n",
      "Cost after iteration 15, 0.1940624745749645 \n",
      "Cost after iteration 16, 0.19406247457496448 \n",
      "Cost after iteration 17, 0.1940624745749645 \n",
      "Cost after iteration 18, 0.19406247457496448 \n",
      "Cost after iteration 19, 0.19406247457496448 \n",
      "Cost after iteration 20, 0.19406247457496448 \n",
      "Cost after iteration 21, 0.19406247457496448 \n",
      "Cost after iteration 22, 0.19406247457496448 \n",
      "Cost after iteration 23, 0.19406247457496448 \n",
      "Cost after iteration 24, 0.19406247457496448 \n",
      "Cost after iteration 25, 0.19406247457496448 \n",
      "Cost after iteration 26, 0.19406247457496448 \n",
      "Cost after iteration 27, 0.19406247457496448 \n",
      "Cost after iteration 28, 0.19406247457496448 \n",
      "Cost after iteration 29, 0.19406247457496448 \n",
      "W =  [[0.78222442]]\n",
      "b =  [[-2.77111667e-16]]\n"
     ]
    }
   ],
   "source": [
    "parameters_simple_lr = nn_model(X_norm,Y_norm,num_iterations=30,learning_rate=1.2,print_cost=True)\n",
    "print('W = ',parameters_simple_lr['W'])\n",
    "print('b = ',parameters_simple_lr['b'])"
   ]
  },
  {
   "cell_type": "code",
   "execution_count": 170,
   "metadata": {},
   "outputs": [
    {
     "name": "stdout",
     "output_type": "stream",
     "text": [
      "TV marketing expenses:\n",
      "[ 50 120 280]\n",
      "Predictions of sales:\n",
      "[ 9.40942557 12.7369904  20.34285287]\n"
     ]
    }
   ],
   "source": [
    "def predict(X,Y,parameters,X_pred):\n",
    "    W = parameters['W']\n",
    "    b = parameters['b']\n",
    "    \n",
    "    if isinstance(X, pd.Series):\n",
    "        X_mean = np.mean(X)\n",
    "        X_std = np.std(X)\n",
    "        X_pred_norm = ((X_pred - X_mean)/X_std).reshape(1,len(X_pred))\n",
    "    else:\n",
    "        X_mean = np.array(np.mean(X,axis=0)).reshape((len(X.axes[1]),1))\n",
    "        X_std = np.array(np.std(X,axis=0)).reshape((len(X.axes[1]),1))\n",
    "        X_pred_norm = ((X_pred - X_mean)/X_std)\n",
    "        \n",
    "    Y_pred_norm = np.matmul(W,X_pred_norm) + b\n",
    "    \n",
    "    Y_pred = Y_pred_norm * np.std(Y) + np.mean(Y)\n",
    "    \n",
    "    return Y_pred[0]\n",
    "\n",
    "X_pred = np.array([50, 120, 280])\n",
    "Y_pred = predict(data[\"TV\"], data[\"Sales\"], parameters_simple_lr, X_pred)\n",
    "print(f\"TV marketing expenses:\\n{X_pred}\")\n",
    "print(f\"Predictions of sales:\\n{Y_pred}\")"
   ]
  },
  {
   "cell_type": "code",
   "execution_count": 135,
   "metadata": {},
   "outputs": [
    {
     "data": {
      "image/png": "[encoded data removed]",
      "text/plain": [
       "<Figure size 640x480 with 1 Axes>"
      ]
     },
     "metadata": {},
     "output_type": "display_data"
    }
   ],
   "source": [
    "fig, ax = plt.subplots()\n",
    "plt.scatter(data[\"TV\"], data[\"Sales\"], color=\"black\")\n",
    "\n",
    "plt.xlabel(\"$x$\")\n",
    "plt.ylabel(\"$y$\")\n",
    "    \n",
    "X_line = np.arange(np.min(data[\"TV\"]),np.max(data[\"TV\"])*1.1, 0.1)\n",
    "Y_line = predict(data[\"TV\"], data[\"Sales\"], parameters_simple_lr, X_line)\n",
    "ax.plot(X_line, Y_line, \"r\")\n",
    "ax.plot(X_pred, Y_pred, \"bo\")\n",
    "plt.plot()\n",
    "plt.show()"
   ]
  }
 ],
 "metadata": {
  "kernelspec": {
   "display_name": "Python 3",
   "language": "python",
   "name": "python3"
  },
  "language_info": {
   "codemirror_mode": {
    "name": "ipython",
    "version": 3
   },
   "file_extension": ".py",
   "mimetype": "text/x-python",
   "name": "python",
   "nbconvert_exporter": "python",
   "pygments_lexer": "ipython3",
   "version": "3.12.2"
  },
  "orig_nbformat": 4
 },
 "nbformat": 4,
 "nbformat_minor": 2
}
